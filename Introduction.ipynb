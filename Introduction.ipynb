{
 "cells": [
  {
   "cell_type": "code",
   "execution_count": 1,
   "id": "642fb712",
   "metadata": {},
   "outputs": [
    {
     "name": "stdout",
     "output_type": "stream",
     "text": [
      "Hello Python\n"
     ]
    }
   ],
   "source": [
    "print(\"Hello Python\")"
   ]
  },
  {
   "cell_type": "code",
   "execution_count": 2,
   "id": "3dd8afb5",
   "metadata": {},
   "outputs": [
    {
     "name": "stdout",
     "output_type": "stream",
     "text": [
      "Hi\n",
      "hello\n"
     ]
    }
   ],
   "source": [
    "print(\"Hi\")\n",
    "print(\"hello\")\n"
   ]
  },
  {
   "cell_type": "code",
   "execution_count": 3,
   "id": "1ce3f419",
   "metadata": {},
   "outputs": [
    {
     "name": "stdout",
     "output_type": "stream",
     "text": [
      "My Learnings\n"
     ]
    }
   ],
   "source": [
    "print(\"My Learnings\")\n",
    "# to print above code"
   ]
  },
  {
   "cell_type": "code",
   "execution_count": 4,
   "id": "559c6f13",
   "metadata": {},
   "outputs": [],
   "source": [
    "# hi \n",
    "# hello\n",
    "# fine"
   ]
  },
  {
   "cell_type": "code",
   "execution_count": null,
   "id": "671af4bb",
   "metadata": {},
   "outputs": [],
   "source": []
  },
  {
   "cell_type": "code",
   "execution_count": 6,
   "id": "ec670944",
   "metadata": {},
   "outputs": [
    {
     "data": {
      "text/plain": [
       "'\\nAuthor : Hari\\nDate:11Feb2023\\nCoruse:Python\\n'"
      ]
     },
     "execution_count": 6,
     "metadata": {},
     "output_type": "execute_result"
    }
   ],
   "source": [
    "\"\"\"\n",
    "Author : Hari\n",
    "Date:11Feb2023\n",
    "Coruse:Python\n",
    "\"\"\""
   ]
  },
  {
   "cell_type": "code",
   "execution_count": 7,
   "id": "d5c97955",
   "metadata": {},
   "outputs": [],
   "source": [
    "# \\ escape character\n",
    "# n newline\n",
    "# t tab\n",
    "# b backspace"
   ]
  },
  {
   "cell_type": "code",
   "execution_count": 9,
   "id": "42502e5f",
   "metadata": {},
   "outputs": [
    {
     "name": "stderr",
     "output_type": "stream",
     "text": [
      "Hello\n",
      "error occured\n",
      "warning\n",
      "critical\n"
     ]
    }
   ],
   "source": [
    "import logging\n",
    "logger = logging.getLogger()\n",
    "logger.error(\"Hello\")\n",
    "logger.error(\"error occured\")\n",
    "logger.warning(\"warning\")\n",
    "logger.critical(\"critical\")\n"
   ]
  },
  {
   "cell_type": "code",
   "execution_count": null,
   "id": "2d534396",
   "metadata": {},
   "outputs": [],
   "source": []
  }
 ],
 "metadata": {
  "kernelspec": {
   "display_name": "Python 3 (ipykernel)",
   "language": "python",
   "name": "python3"
  },
  "language_info": {
   "codemirror_mode": {
    "name": "ipython",
    "version": 3
   },
   "file_extension": ".py",
   "mimetype": "text/x-python",
   "name": "python",
   "nbconvert_exporter": "python",
   "pygments_lexer": "ipython3",
   "version": "3.9.13"
  }
 },
 "nbformat": 4,
 "nbformat_minor": 5
}
