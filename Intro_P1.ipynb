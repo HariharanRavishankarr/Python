{
 "cells": [
  {
   "cell_type": "code",
   "execution_count": null,
   "id": "569966d0",
   "metadata": {},
   "outputs": [],
   "source": [
    "a=5\n",
    "b=6\n",
    "c=a+b\n",
    "print(c)"
   ]
  },
  {
   "cell_type": "code",
   "execution_count": 2,
   "id": "ccd100c4",
   "metadata": {},
   "outputs": [
    {
     "name": "stdout",
     "output_type": "stream",
     "text": [
      "12\n"
     ]
    }
   ],
   "source": [
    "c=12\n",
    "print(c)"
   ]
  },
  {
   "cell_type": "code",
   "execution_count": 3,
   "id": "22700b2a",
   "metadata": {},
   "outputs": [
    {
     "name": "stdout",
     "output_type": "stream",
     "text": [
      "<class 'int'>\n"
     ]
    }
   ],
   "source": [
    "print(type(c))"
   ]
  },
  {
   "cell_type": "code",
   "execution_count": 4,
   "id": "8ec84db6",
   "metadata": {},
   "outputs": [
    {
     "name": "stdout",
     "output_type": "stream",
     "text": [
      "Hello\n",
      "hello\n"
     ]
    }
   ],
   "source": [
    "print(\"Hello\")\n",
    "print('hello')"
   ]
  },
  {
   "cell_type": "code",
   "execution_count": 5,
   "id": "8945e4e6",
   "metadata": {},
   "outputs": [
    {
     "name": "stdout",
     "output_type": "stream",
     "text": [
      "<class 'str'>\n"
     ]
    }
   ],
   "source": [
    "print(type(\"hello\"))"
   ]
  },
  {
   "cell_type": "code",
   "execution_count": 6,
   "id": "5f75f1b6",
   "metadata": {},
   "outputs": [
    {
     "name": "stdout",
     "output_type": "stream",
     "text": [
      "<class 'str'>\n"
     ]
    }
   ],
   "source": [
    "print(type('hello'))"
   ]
  },
  {
   "cell_type": "code",
   "execution_count": 7,
   "id": "b7576edd",
   "metadata": {},
   "outputs": [
    {
     "data": {
      "text/plain": [
       "'\\nHi\\nWelcome\\nto Session\\n\\n'"
      ]
     },
     "execution_count": 7,
     "metadata": {},
     "output_type": "execute_result"
    }
   ],
   "source": [
    "\"\"\"Hi\n",
    "Welcome\n",
    "to Session\n",
    "\"\"\""
   ]
  },
  {
   "cell_type": "code",
   "execution_count": 12,
   "id": "9de465f6",
   "metadata": {},
   "outputs": [
    {
     "name": "stdout",
     "output_type": "stream",
     "text": [
      "Hi\n",
      "hello\n",
      "welcome\n"
     ]
    }
   ],
   "source": [
    "## \\n -> Next Line; \\t -> tab ; b-> backspace\n",
    "print(\"Hi\\nhello\\nwelcome\")"
   ]
  },
  {
   "cell_type": "code",
   "execution_count": 17,
   "id": "849caaa9",
   "metadata": {},
   "outputs": [
    {
     "name": "stderr",
     "output_type": "stream",
     "text": [
      "Hello\n",
      "Error occured\n",
      "Warnings\n",
      "Critical\n"
     ]
    }
   ],
   "source": [
    "import logging\n",
    "logger=logging.getLogger()\n",
    "logger.error(\"Hello\")\n",
    "logger.error(\"Error occured\")\n",
    "logger.warning(\"Warnings\")\n",
    "logger.critical(\"Critical\")"
   ]
  },
  {
   "cell_type": "code",
   "execution_count": 19,
   "id": "8973df2a",
   "metadata": {},
   "outputs": [
    {
     "name": "stdout",
     "output_type": "stream",
     "text": [
      "<class 'str'>\n"
     ]
    }
   ],
   "source": [
    "### Data Types\n",
    "#String\n",
    "print(type(\"HI\")) # to know the Data Type "
   ]
  },
  {
   "cell_type": "code",
   "execution_count": 20,
   "id": "77012d01",
   "metadata": {},
   "outputs": [
    {
     "name": "stdout",
     "output_type": "stream",
     "text": [
      "Hi hello welcome to the python learnings\n"
     ]
    }
   ],
   "source": [
    "print(\"Hi hello welcome to the python learnings\")"
   ]
  },
  {
   "cell_type": "code",
   "execution_count": 21,
   "id": "910ddf33",
   "metadata": {},
   "outputs": [
    {
     "name": "stdout",
     "output_type": "stream",
     "text": [
      "Hi hello welcome to the python learnings\n"
     ]
    }
   ],
   "source": [
    "a=\"Hi hello welcome to the python learnings\"\n",
    "print(a)"
   ]
  },
  {
   "cell_type": "code",
   "execution_count": 22,
   "id": "2a693bfa",
   "metadata": {},
   "outputs": [
    {
     "name": "stdout",
     "output_type": "stream",
     "text": [
      "<class 'str'>\n"
     ]
    }
   ],
   "source": [
    "print(type(a))"
   ]
  },
  {
   "cell_type": "code",
   "execution_count": 25,
   "id": "a61487d4",
   "metadata": {},
   "outputs": [
    {
     "name": "stdout",
     "output_type": "stream",
     "text": [
      "<class 'int'>\n"
     ]
    }
   ],
   "source": [
    "b=1\n",
    "c=1.5\n",
    "d='three'\n",
    "e=\"four\"\n",
    "print(type(b))"
   ]
  },
  {
   "cell_type": "code",
   "execution_count": 26,
   "id": "8359e85c",
   "metadata": {},
   "outputs": [
    {
     "name": "stdout",
     "output_type": "stream",
     "text": [
      "<class 'float'>\n",
      "<class 'str'>\n",
      "<class 'str'>\n"
     ]
    }
   ],
   "source": [
    "print(type(c))\n",
    "print(type(d))\n",
    "print(type(e))"
   ]
  },
  {
   "cell_type": "code",
   "execution_count": 27,
   "id": "6add7c53",
   "metadata": {},
   "outputs": [
    {
     "name": "stdout",
     "output_type": "stream",
     "text": [
      "True\n",
      "False\n"
     ]
    }
   ],
   "source": [
    "print(isinstance(a,str))\n",
    "print(isinstance(b,str))"
   ]
  },
  {
   "cell_type": "code",
   "execution_count": 28,
   "id": "1c484d33",
   "metadata": {},
   "outputs": [
    {
     "name": "stdout",
     "output_type": "stream",
     "text": [
      "False\n",
      "True\n"
     ]
    }
   ],
   "source": [
    "print(isinstance(a,int))\n",
    "print(isinstance(b,int))"
   ]
  },
  {
   "cell_type": "code",
   "execution_count": 30,
   "id": "fbad83a2",
   "metadata": {},
   "outputs": [
    {
     "name": "stdout",
     "output_type": "stream",
     "text": [
      "False\n",
      "False\n",
      "True\n",
      "True\n"
     ]
    }
   ],
   "source": [
    "print(isinstance(a,float))\n",
    "print(isinstance(b,float))\n",
    "print(isinstance(c,float))\n",
    "print(isinstance(d,str))"
   ]
  },
  {
   "cell_type": "code",
   "execution_count": 51,
   "id": "a24434af",
   "metadata": {},
   "outputs": [
    {
     "name": "stdout",
     "output_type": "stream",
     "text": [
      "20\n"
     ]
    }
   ],
   "source": [
    "a=\"HariharanRavishankar\"\n",
    "print(len(a))"
   ]
  },
  {
   "cell_type": "code",
   "execution_count": 47,
   "id": "12fdc72f",
   "metadata": {},
   "outputs": [
    {
     "name": "stdout",
     "output_type": "stream",
     "text": [
      "H\n"
     ]
    }
   ],
   "source": [
    "print(min(a))"
   ]
  },
  {
   "cell_type": "code",
   "execution_count": 43,
   "id": "91d2a98b",
   "metadata": {},
   "outputs": [
    {
     "name": "stdout",
     "output_type": "stream",
     "text": [
      "v\n"
     ]
    }
   ],
   "source": [
    "print(max(a))"
   ]
  },
  {
   "cell_type": "code",
   "execution_count": 46,
   "id": "ee14e935",
   "metadata": {},
   "outputs": [
    {
     "name": "stdout",
     "output_type": "stream",
     "text": [
      "H\n"
     ]
    }
   ],
   "source": [
    "print(min(a))"
   ]
  },
  {
   "cell_type": "code",
   "execution_count": 44,
   "id": "faedf9a7",
   "metadata": {},
   "outputs": [
    {
     "name": "stdout",
     "output_type": "stream",
     "text": [
      "[' ', 'H', 'R', 'a', 'a', 'a', 'a', 'a', 'a', 'h', 'h', 'i', 'i', 'k', 'n', 'n', 'r', 'r', 'r', 's', 'v']\n"
     ]
    }
   ],
   "source": [
    "print(sorted(a))"
   ]
  },
  {
   "cell_type": "code",
   "execution_count": 53,
   "id": "45fb586b",
   "metadata": {},
   "outputs": [
    {
     "name": "stdout",
     "output_type": "stream",
     "text": [
      "True\n"
     ]
    }
   ],
   "source": [
    "print(a.isalpha())"
   ]
  },
  {
   "cell_type": "code",
   "execution_count": 54,
   "id": "22c15d34",
   "metadata": {},
   "outputs": [
    {
     "name": "stdout",
     "output_type": "stream",
     "text": [
      "True\n"
     ]
    }
   ],
   "source": [
    "print(a.isalnum())"
   ]
  },
  {
   "cell_type": "code",
   "execution_count": 58,
   "id": "7f4660cc",
   "metadata": {},
   "outputs": [
    {
     "name": "stdout",
     "output_type": "stream",
     "text": [
      "False\n",
      "False\n"
     ]
    }
   ],
   "source": [
    "print(a.isupper())\n",
    "print(a.islower())"
   ]
  },
  {
   "cell_type": "code",
   "execution_count": 56,
   "id": "19c28bef",
   "metadata": {},
   "outputs": [
    {
     "name": "stdout",
     "output_type": "stream",
     "text": [
      "HARIHARANRAVISHANKAR\n"
     ]
    }
   ],
   "source": [
    "print(a.upper())"
   ]
  },
  {
   "cell_type": "code",
   "execution_count": 57,
   "id": "0e7dd3bb",
   "metadata": {},
   "outputs": [
    {
     "name": "stdout",
     "output_type": "stream",
     "text": [
      "hariharanravishankar\n"
     ]
    }
   ],
   "source": [
    "print(a.lower())"
   ]
  },
  {
   "cell_type": "code",
   "execution_count": 59,
   "id": "f045dd11",
   "metadata": {},
   "outputs": [
    {
     "name": "stdout",
     "output_type": "stream",
     "text": [
      "hARIHARANrAVISHANKAR\n"
     ]
    }
   ],
   "source": [
    "print(a.swapcase())"
   ]
  },
  {
   "cell_type": "code",
   "execution_count": 61,
   "id": "45f56fbb",
   "metadata": {},
   "outputs": [
    {
     "name": "stdout",
     "output_type": "stream",
     "text": [
      "Hariharanravishankar\n"
     ]
    }
   ],
   "source": [
    "print(a.title()) # 1st letter capital"
   ]
  },
  {
   "cell_type": "code",
   "execution_count": 62,
   "id": "c17fe1a1",
   "metadata": {},
   "outputs": [
    {
     "name": "stdout",
     "output_type": "stream",
     "text": [
      "Hariharanravishankar\n"
     ]
    }
   ],
   "source": [
    "print(a.capitalize())"
   ]
  },
  {
   "cell_type": "code",
   "execution_count": 63,
   "id": "1bf14956",
   "metadata": {},
   "outputs": [
    {
     "name": "stdout",
     "output_type": "stream",
     "text": [
      "r\n"
     ]
    }
   ],
   "source": [
    "#Forward Indexing\n",
    "# 0 1 2 3 4 5 \n",
    "# P Y T H O N\n",
    "# -5 -4 -3 -2 -1 0\n",
    "print(a[6])"
   ]
  },
  {
   "cell_type": "code",
   "execution_count": 65,
   "id": "b03aeb2c",
   "metadata": {},
   "outputs": [
    {
     "name": "stdout",
     "output_type": "stream",
     "text": [
      "HariharanRavishankar\n"
     ]
    }
   ],
   "source": [
    "print(a[:])"
   ]
  },
  {
   "cell_type": "code",
   "execution_count": 67,
   "id": "3ffcb7c1",
   "metadata": {},
   "outputs": [
    {
     "name": "stdout",
     "output_type": "stream",
     "text": [
      "Hari\n"
     ]
    }
   ],
   "source": [
    "print(a[0:4])"
   ]
  },
  {
   "cell_type": "code",
   "execution_count": 68,
   "id": "ad58c1ff",
   "metadata": {},
   "outputs": [
    {
     "name": "stdout",
     "output_type": "stream",
     "text": [
      "HariharanRavishanka\n"
     ]
    }
   ],
   "source": [
    "print(a[0:-1])"
   ]
  },
  {
   "cell_type": "code",
   "execution_count": 74,
   "id": "f4fb1c6b",
   "metadata": {},
   "outputs": [
    {
     "name": "stdout",
     "output_type": "stream",
     "text": [
      "r\n"
     ]
    }
   ],
   "source": [
    "print(a[-1])"
   ]
  },
  {
   "cell_type": "code",
   "execution_count": 76,
   "id": "2e06706d",
   "metadata": {},
   "outputs": [
    {
     "name": "stdout",
     "output_type": "stream",
     "text": [
      "Hrhrnaihna\n"
     ]
    }
   ],
   "source": [
    "print(a[::2])"
   ]
  },
  {
   "cell_type": "code",
   "execution_count": 77,
   "id": "6003ed74",
   "metadata": {},
   "outputs": [
    {
     "name": "stdout",
     "output_type": "stream",
     "text": [
      "Hhnin\n"
     ]
    }
   ],
   "source": [
    "print(a[::4])"
   ]
  },
  {
   "cell_type": "code",
   "execution_count": 78,
   "id": "869f24ec",
   "metadata": {},
   "outputs": [
    {
     "name": "stdout",
     "output_type": "stream",
     "text": [
      "raknahsivaRnarahiraH\n"
     ]
    }
   ],
   "source": [
    "print(a[::-1]) # print in reverse order"
   ]
  },
  {
   "cell_type": "code",
   "execution_count": 79,
   "id": "a4c9a084",
   "metadata": {},
   "outputs": [
    {
     "ename": "SyntaxError",
     "evalue": "invalid syntax (4193394421.py, line 1)",
     "output_type": "error",
     "traceback": [
      "\u001b[1;36m  File \u001b[1;32m\"C:\\Users\\Admin\\AppData\\Local\\Temp\\ipykernel_7576\\4193394421.py\"\u001b[1;36m, line \u001b[1;32m1\u001b[0m\n\u001b[1;33m    print(a[::-1:2])\u001b[0m\n\u001b[1;37m                ^\u001b[0m\n\u001b[1;31mSyntaxError\u001b[0m\u001b[1;31m:\u001b[0m invalid syntax\n"
     ]
    }
   ],
   "source": [
    "print(a[::-1])"
   ]
  },
  {
   "cell_type": "code",
   "execution_count": 86,
   "id": "a94728d5",
   "metadata": {},
   "outputs": [
    {
     "name": "stdout",
     "output_type": "stream",
     "text": [
      "9\n",
      "20\n"
     ]
    }
   ],
   "source": [
    "print(a.index(\"R\"))\n",
    "print(len(a))"
   ]
  },
  {
   "cell_type": "code",
   "execution_count": 88,
   "id": "c8bb819e",
   "metadata": {},
   "outputs": [
    {
     "name": "stdout",
     "output_type": "stream",
     "text": [
      "1\n",
      "5\n",
      "5\n"
     ]
    }
   ],
   "source": [
    "print(a.index(\"a\"))\n",
    "print(a.index(\"a\",2)) \n",
    "print(a.index(\"a\",5,20))"
   ]
  },
  {
   "cell_type": "code",
   "execution_count": 89,
   "id": "36564b67",
   "metadata": {},
   "outputs": [
    {
     "name": "stdout",
     "output_type": "stream",
     "text": [
      "1\n"
     ]
    }
   ],
   "source": [
    "print(a.find(\"a\"))"
   ]
  },
  {
   "cell_type": "code",
   "execution_count": 93,
   "id": "f3f38907",
   "metadata": {},
   "outputs": [
    {
     "ename": "ValueError",
     "evalue": "substring not found",
     "output_type": "error",
     "traceback": [
      "\u001b[1;31m---------------------------------------------------------------------------\u001b[0m",
      "\u001b[1;31mValueError\u001b[0m                                Traceback (most recent call last)",
      "\u001b[1;32m~\\AppData\\Local\\Temp\\ipykernel_7576\\876296994.py\u001b[0m in \u001b[0;36m<module>\u001b[1;34m\u001b[0m\n\u001b[1;32m----> 1\u001b[1;33m \u001b[0mprint\u001b[0m\u001b[1;33m(\u001b[0m\u001b[0ma\u001b[0m\u001b[1;33m.\u001b[0m\u001b[0mindex\u001b[0m\u001b[1;33m(\u001b[0m\u001b[1;34m\"Z\"\u001b[0m\u001b[1;33m)\u001b[0m\u001b[1;33m)\u001b[0m\u001b[1;33m\u001b[0m\u001b[1;33m\u001b[0m\u001b[0m\n\u001b[0m",
      "\u001b[1;31mValueError\u001b[0m: substring not found"
     ]
    }
   ],
   "source": [
    "print(a.index(\"Z\"))"
   ]
  },
  {
   "cell_type": "code",
   "execution_count": 95,
   "id": "1e443644",
   "metadata": {},
   "outputs": [
    {
     "name": "stdout",
     "output_type": "stream",
     "text": [
      "-1\n"
     ]
    }
   ],
   "source": [
    "print(a.find(\"Z\")) # if substring not found will throw -1  Inder & Find is same but index will throw an error if if substring not found"
   ]
  },
  {
   "cell_type": "code",
   "execution_count": 107,
   "id": "a04aecb2",
   "metadata": {},
   "outputs": [
    {
     "name": "stdout",
     "output_type": "stream",
     "text": [
      "6\n",
      "H@rih@r@nR@vish@nk@r\n",
      "H@riharanRavishankar\n",
      "H@rih@ranRavishankar\n",
      "['H', 'rih', 'r', 'nR', 'vish', 'nk', 'r']\n",
      "['H', 'riharanRavishankar']\n"
     ]
    }
   ],
   "source": [
    "print(a.count(\"a\"))\n",
    "print(a.replace(\"a\",\"@\"))\n",
    "print(a.replace(\"a\",\"@\",1))\n",
    "print(a.replace(\"a\",\"@\",2))\n",
    "print(a.split(\"a\"))\n",
    "print(a.split(\"a\",1))"
   ]
  },
  {
   "cell_type": "code",
   "execution_count": 110,
   "id": "37df712d",
   "metadata": {},
   "outputs": [
    {
     "name": "stdout",
     "output_type": "stream",
     "text": [
      "Good Morning Hari,have a great day ahead in Sunday\n"
     ]
    }
   ],
   "source": [
    "print(\"Good Morning {},have a great day ahead{}\".format(\"Hari\",\" in Sunday\")) # default indexing"
   ]
  },
  {
   "cell_type": "code",
   "execution_count": 113,
   "id": "2f01c4f4",
   "metadata": {},
   "outputs": [
    {
     "name": "stdout",
     "output_type": "stream",
     "text": [
      "Good Morning  in Sunday,have a great day ahead Hari\n",
      "Good Morning  Hari,have a great day ahead in Sunday\n"
     ]
    }
   ],
   "source": [
    "print(\"Good Morning {1},have a great day ahead{0}\".format(\" Hari\",\" in Sunday\")) #position indexing\n",
    "print(\"Good Morning {0},have a great day ahead{1}\".format(\" Hari\",\" in Sunday\"))"
   ]
  },
  {
   "cell_type": "code",
   "execution_count": 117,
   "id": "512c98f4",
   "metadata": {},
   "outputs": [
    {
     "name": "stdout",
     "output_type": "stream",
     "text": [
      "Good Morning Hariharan,have a great day ahead Sunday\n"
     ]
    }
   ],
   "source": [
    "name=\"Hariharan\"\n",
    "day=\"Sunday\"\n",
    "print(f\"Good Morning {name},have a great day ahead {day}\")"
   ]
  },
  {
   "cell_type": "code",
   "execution_count": 118,
   "id": "ae3ccd3d",
   "metadata": {},
   "outputs": [
    {
     "name": "stdout",
     "output_type": "stream",
     "text": [
      "Good Morning (name),have a great day ahead (day)\n"
     ]
    }
   ],
   "source": [
    "print(f\"Good Morning (name),have a great day ahead (day)\")"
   ]
  },
  {
   "cell_type": "code",
   "execution_count": 121,
   "id": "a2406914",
   "metadata": {},
   "outputs": [
    {
     "name": "stdout",
     "output_type": "stream",
     "text": [
      "123\n"
     ]
    }
   ],
   "source": [
    "a=input()\n"
   ]
  },
  {
   "cell_type": "code",
   "execution_count": 122,
   "id": "435b4f71",
   "metadata": {},
   "outputs": [
    {
     "name": "stdout",
     "output_type": "stream",
     "text": [
      "<class 'str'>\n"
     ]
    }
   ],
   "source": [
    "print(type(a))"
   ]
  },
  {
   "cell_type": "code",
   "execution_count": 123,
   "id": "01b797c1",
   "metadata": {},
   "outputs": [],
   "source": [
    "a=\"123\""
   ]
  },
  {
   "cell_type": "code",
   "execution_count": 124,
   "id": "205493cb",
   "metadata": {},
   "outputs": [
    {
     "name": "stdout",
     "output_type": "stream",
     "text": [
      "True\n"
     ]
    }
   ],
   "source": [
    "print(a.isdigit())"
   ]
  },
  {
   "cell_type": "code",
   "execution_count": 129,
   "id": "9c0ac2d2",
   "metadata": {},
   "outputs": [
    {
     "name": "stdout",
     "output_type": "stream",
     "text": [
      "False\n"
     ]
    }
   ],
   "source": [
    "a=123\n",
    "print(isinstance(a,str))"
   ]
  },
  {
   "cell_type": "code",
   "execution_count": 130,
   "id": "b460dfd8",
   "metadata": {},
   "outputs": [
    {
     "name": "stdout",
     "output_type": "stream",
     "text": [
      "<class 'list'>\n",
      "True\n",
      "3\n",
      "35\n"
     ]
    }
   ],
   "source": [
    "## List \n",
    "### list is an example of normal bus like its stop all the stops i.e. list mutable \n",
    "### []\n",
    "\n",
    "name=\"Harihara\"\n",
    "age='35'\n",
    "place=\"Chennai\"\n",
    "a=[\"Hariharan\",\"35\",\"Chennai\"]\n",
    "print(type(a))\n",
    "print(isinstance(a,list))\n",
    "print(len(a))\n",
    "print(min(a))"
   ]
  },
  {
   "cell_type": "code",
   "execution_count": 131,
   "id": "d14583d4",
   "metadata": {},
   "outputs": [
    {
     "name": "stdout",
     "output_type": "stream",
     "text": [
      "['35', 'Chennai', 'Hariharan']\n"
     ]
    }
   ],
   "source": [
    "print(sorted(a))"
   ]
  },
  {
   "cell_type": "code",
   "execution_count": 132,
   "id": "900dd688",
   "metadata": {},
   "outputs": [
    {
     "name": "stdout",
     "output_type": "stream",
     "text": [
      "Hariharan\n"
     ]
    }
   ],
   "source": [
    "print(a[0])"
   ]
  },
  {
   "cell_type": "code",
   "execution_count": 133,
   "id": "ff48ee62",
   "metadata": {},
   "outputs": [
    {
     "name": "stdout",
     "output_type": "stream",
     "text": [
      "['Hariharan', '35', 'Chennai']\n"
     ]
    }
   ],
   "source": [
    "print(a)"
   ]
  },
  {
   "cell_type": "code",
   "execution_count": 136,
   "id": "95c3876f",
   "metadata": {},
   "outputs": [
    {
     "name": "stdout",
     "output_type": "stream",
     "text": [
      "['Chennai', '35', 'Hariharan']\n"
     ]
    }
   ],
   "source": [
    "print((a[::-1]))"
   ]
  },
  {
   "cell_type": "code",
   "execution_count": 154,
   "id": "ca28a010",
   "metadata": {},
   "outputs": [],
   "source": [
    "## unique datatype only available in list ; error throw if different data type in sorting operation\n",
    "## python will always display the output in a list datatype\n",
    "a=[100,50,25,200,10,150]\n",
    "a.append(125)  #this will append the new value at the end"
   ]
  },
  {
   "cell_type": "code",
   "execution_count": 155,
   "id": "62cf2791",
   "metadata": {},
   "outputs": [
    {
     "name": "stdout",
     "output_type": "stream",
     "text": [
      "[100, 50, 25, 200, 10, 150, 125]\n"
     ]
    }
   ],
   "source": [
    "print(a)"
   ]
  },
  {
   "cell_type": "code",
   "execution_count": 156,
   "id": "2731cbf0",
   "metadata": {},
   "outputs": [],
   "source": [
    "a.append(a[0]) #this will append a[0] value at the end"
   ]
  },
  {
   "cell_type": "code",
   "execution_count": 157,
   "id": "c30da83a",
   "metadata": {},
   "outputs": [
    {
     "name": "stdout",
     "output_type": "stream",
     "text": [
      "[100, 50, 25, 200, 10, 150, 125, 100]\n"
     ]
    }
   ],
   "source": [
    "print(a)"
   ]
  },
  {
   "cell_type": "code",
   "execution_count": 158,
   "id": "a63d880c",
   "metadata": {},
   "outputs": [
    {
     "name": "stdout",
     "output_type": "stream",
     "text": [
      "[100, 50, 25, 5000, 200, 10, 150, 125, 100]\n"
     ]
    }
   ],
   "source": [
    "a.insert(3,5000) #will insert 5000 value in after 3rd index\n",
    "print(a)"
   ]
  },
  {
   "cell_type": "code",
   "execution_count": 159,
   "id": "9f3e6fcb",
   "metadata": {},
   "outputs": [],
   "source": [
    "a.remove(5000) #will remove 5000 value anywhere from the list"
   ]
  },
  {
   "cell_type": "code",
   "execution_count": 160,
   "id": "28a10dff",
   "metadata": {},
   "outputs": [
    {
     "name": "stdout",
     "output_type": "stream",
     "text": [
      "[100, 50, 25, 200, 10, 150, 125, 100]\n"
     ]
    }
   ],
   "source": [
    "print(a)"
   ]
  },
  {
   "cell_type": "code",
   "execution_count": 161,
   "id": "5d5e660d",
   "metadata": {},
   "outputs": [
    {
     "name": "stdout",
     "output_type": "stream",
     "text": [
      "[100, 50, 25, 10, 150, 125, 100]\n"
     ]
    }
   ],
   "source": [
    "del a[3] # remove the 3rd index from the list i.e. 200\n",
    "print(a)"
   ]
  },
  {
   "cell_type": "code",
   "execution_count": 162,
   "id": "69363208",
   "metadata": {},
   "outputs": [
    {
     "name": "stdout",
     "output_type": "stream",
     "text": [
      "[100, 50, 25, 10, 150]\n",
      "125\n"
     ]
    }
   ],
   "source": [
    "a.pop() # this will remove last value from the list also called last index value\n",
    "b=a.pop()\n",
    "print(a)\n",
    "print(b)"
   ]
  },
  {
   "cell_type": "code",
   "execution_count": 163,
   "id": "be5f7ec4",
   "metadata": {},
   "outputs": [
    {
     "name": "stdout",
     "output_type": "stream",
     "text": [
      "[100, 50, 10, 150]\n"
     ]
    }
   ],
   "source": [
    "a.pop(2) #this will removing higlighted index value from the list\n",
    "print(a)"
   ]
  },
  {
   "cell_type": "code",
   "execution_count": 150,
   "id": "0aa1b190",
   "metadata": {},
   "outputs": [
    {
     "name": "stdout",
     "output_type": "stream",
     "text": [
      "[100, 150, 125]\n"
     ]
    }
   ],
   "source": [
    "a.pop(1) #this will removing higlighted index value from the list\n",
    "print(a)"
   ]
  },
  {
   "cell_type": "code",
   "execution_count": 164,
   "id": "c0b5a2d5",
   "metadata": {},
   "outputs": [
    {
     "name": "stdout",
     "output_type": "stream",
     "text": [
      "[1, 2, 3, [4, 5, 6], 4, 5, 6]\n"
     ]
    }
   ],
   "source": [
    "a=[1,2,3]\n",
    "b=[4,5,6]\n",
    "a.append(b) # This will append entire list i.e. [4,5,6] into a list at the end\n",
    "a.extend(b) # This will append extend a list at the end i.e. continous \n",
    "print(a)"
   ]
  },
  {
   "cell_type": "code",
   "execution_count": 166,
   "id": "27e00c32",
   "metadata": {},
   "outputs": [
    {
     "name": "stdout",
     "output_type": "stream",
     "text": [
      "7\n"
     ]
    }
   ],
   "source": [
    "print(len(a))"
   ]
  },
  {
   "cell_type": "code",
   "execution_count": 167,
   "id": "98a3d0fd",
   "metadata": {},
   "outputs": [
    {
     "name": "stdout",
     "output_type": "stream",
     "text": [
      "[1, 2, 3, 4, 5, 6]\n"
     ]
    }
   ],
   "source": [
    "a=[1,2,3]\n",
    "b=[4,5,6]\n",
    "print(a+b)"
   ]
  },
  {
   "cell_type": "code",
   "execution_count": 177,
   "id": "37c36f44",
   "metadata": {},
   "outputs": [
    {
     "name": "stdout",
     "output_type": "stream",
     "text": [
      "[1, 2, 3, 4, 5, 6]\n"
     ]
    }
   ],
   "source": [
    "print(a+b)"
   ]
  },
  {
   "cell_type": "code",
   "execution_count": 173,
   "id": "613c2ae9",
   "metadata": {},
   "outputs": [
    {
     "name": "stdout",
     "output_type": "stream",
     "text": [
      "6\n"
     ]
    }
   ],
   "source": [
    "print(len(a+b))"
   ]
  },
  {
   "cell_type": "code",
   "execution_count": 182,
   "id": "a2e9a2f2",
   "metadata": {},
   "outputs": [
    {
     "name": "stdout",
     "output_type": "stream",
     "text": [
      "[1, 2, 3, 4]\n",
      "[1, 2, 3, 4]\n"
     ]
    }
   ],
   "source": [
    "## Copy in Python\n",
    "## Shallow copy i.e. Shared Memory\n",
    "## Deep Copy i.e. Different\n",
    "## Shallow copy\n",
    "a=[1,2,3]\n",
    "b=a\n",
    "a.append(4)\n",
    "print(a)\n",
    "print(b)"
   ]
  },
  {
   "cell_type": "code",
   "execution_count": 184,
   "id": "5460ce82",
   "metadata": {},
   "outputs": [
    {
     "name": "stdout",
     "output_type": "stream",
     "text": [
      "[1, 2, 3, 4]\n",
      "[1, 2, 3]\n"
     ]
    }
   ],
   "source": [
    "## Deep Copy\n",
    "a=[1,2,3]\n",
    "b=a.copy()\n",
    "a.append(4)\n",
    "print(a)\n",
    "print(b)"
   ]
  },
  {
   "cell_type": "code",
   "execution_count": 185,
   "id": "6072d3ea",
   "metadata": {},
   "outputs": [],
   "source": [
    "a=[[\"Hariharan\",\"35\",\"Chennai\"],[\"Lalitha\",\"31\",\"Chennai\"]]"
   ]
  },
  {
   "cell_type": "code",
   "execution_count": 186,
   "id": "e062313c",
   "metadata": {},
   "outputs": [
    {
     "name": "stdout",
     "output_type": "stream",
     "text": [
      "Chennai\n"
     ]
    }
   ],
   "source": [
    "print(a[0][2])"
   ]
  },
  {
   "cell_type": "code",
   "execution_count": 190,
   "id": "e6d9d1ff",
   "metadata": {},
   "outputs": [
    {
     "name": "stdout",
     "output_type": "stream",
     "text": [
      "['31', 'Chennai', 'Lalith']\n"
     ]
    }
   ],
   "source": [
    "print(sorted(a[1]))"
   ]
  },
  {
   "cell_type": "code",
   "execution_count": 192,
   "id": "65057210",
   "metadata": {},
   "outputs": [
    {
     "name": "stdout",
     "output_type": "stream",
     "text": [
      "<class 'tuple'>\n",
      "True\n"
     ]
    }
   ],
   "source": [
    "#### Tuple  List & Tuple are same function but here in tuple copy,append,remove will not work\n",
    "### Tuple is an example of poitn to point bus i.e. Tuple immutable \n",
    "### ()\n",
    "a=(1,2,3)\n",
    "print(type(a))\n",
    "print(isinstance(a,tuple))"
   ]
  },
  {
   "cell_type": "code",
   "execution_count": 193,
   "id": "de03e4f8",
   "metadata": {},
   "outputs": [
    {
     "name": "stdout",
     "output_type": "stream",
     "text": [
      "1\n"
     ]
    }
   ],
   "source": [
    "print(min(a))"
   ]
  },
  {
   "cell_type": "code",
   "execution_count": 194,
   "id": "f6d03154",
   "metadata": {},
   "outputs": [
    {
     "name": "stdout",
     "output_type": "stream",
     "text": [
      "3\n"
     ]
    }
   ],
   "source": [
    "print(max(a))"
   ]
  },
  {
   "cell_type": "code",
   "execution_count": 208,
   "id": "1920c927",
   "metadata": {},
   "outputs": [
    {
     "name": "stdout",
     "output_type": "stream",
     "text": [
      "{'Hi', 'test', 'hello'}\n",
      "{'Hi', 'test', 'hello'}\n",
      "['Hi', 'test', 'hello']\n",
      "['Hi', 'test', 'hello']\n"
     ]
    }
   ],
   "source": [
    "#### set {} \n",
    "#### Indexing not allowed in Set \n",
    "#### set {} advantage is not allowed duplicates \n",
    "### add  will add at end ,remove the values,pop will use in set where pop remove 1st occurance from set\n",
    "a={\"test\",\"test\",\"hello\",\"hello\",\"Hi\",\"Hi\"}\n",
    "print(a)\n",
    "print(set(a))\n",
    "print(list(a))\n",
    "print(list(set(a)))"
   ]
  },
  {
   "cell_type": "code",
   "execution_count": 200,
   "id": "ec4f3e6b",
   "metadata": {},
   "outputs": [
    {
     "name": "stdout",
     "output_type": "stream",
     "text": [
      "{'test', 'hello'}\n"
     ]
    }
   ],
   "source": [
    "a.pop()\n",
    "print(a)"
   ]
  },
  {
   "cell_type": "code",
   "execution_count": 209,
   "id": "3c7d3e09",
   "metadata": {},
   "outputs": [],
   "source": [
    "a.add(\"HII\")"
   ]
  },
  {
   "cell_type": "code",
   "execution_count": 210,
   "id": "4dd055fe",
   "metadata": {},
   "outputs": [
    {
     "name": "stdout",
     "output_type": "stream",
     "text": [
      "{'Hi', 'test', 'hello', 'HII'}\n"
     ]
    }
   ],
   "source": [
    "print(a)"
   ]
  },
  {
   "cell_type": "code",
   "execution_count": 211,
   "id": "23a5896f",
   "metadata": {},
   "outputs": [],
   "source": [
    "a.remove(\"HII\")"
   ]
  },
  {
   "cell_type": "code",
   "execution_count": 212,
   "id": "e3a16931",
   "metadata": {},
   "outputs": [
    {
     "name": "stdout",
     "output_type": "stream",
     "text": [
      "{'Hi', 'test', 'hello'}\n"
     ]
    }
   ],
   "source": [
    "print(a)"
   ]
  },
  {
   "cell_type": "code",
   "execution_count": 213,
   "id": "3b518ef2",
   "metadata": {},
   "outputs": [
    {
     "name": "stdout",
     "output_type": "stream",
     "text": [
      "{'HII', 'Hi', 'test', 'hello'}\n",
      "{'HII', 'Hi', 'test', 'hello'}\n"
     ]
    }
   ],
   "source": [
    "a.add(\"HII\")\n",
    "print(a)\n",
    "#a.remove(2)\n",
    "print(a)"
   ]
  },
  {
   "cell_type": "code",
   "execution_count": 214,
   "id": "f15695fb",
   "metadata": {},
   "outputs": [
    {
     "name": "stdout",
     "output_type": "stream",
     "text": [
      "{1, 2, 3, 4, 5, 6, 7, 8, 9}\n",
      "{1, 2, 3, 4, 5, 6, 7, 8, 9}\n"
     ]
    }
   ],
   "source": [
    "a={1,2,3,4,5,6}\n",
    "b={4,5,6,7,8,9}\n",
    "print(a.union(b))\n",
    "print(a|b)"
   ]
  },
  {
   "cell_type": "code",
   "execution_count": 215,
   "id": "d690c85a",
   "metadata": {},
   "outputs": [
    {
     "name": "stdout",
     "output_type": "stream",
     "text": [
      "{4, 5, 6}\n",
      "{4, 5, 6}\n"
     ]
    }
   ],
   "source": [
    "print(a.intersection(b))\n",
    "print(a&b)"
   ]
  },
  {
   "cell_type": "code",
   "execution_count": 217,
   "id": "6dfd70f0",
   "metadata": {},
   "outputs": [
    {
     "name": "stdout",
     "output_type": "stream",
     "text": [
      "{1, 2, 3}\n",
      "{1, 2, 3}\n",
      "{8, 9, 7}\n",
      "{8, 9, 7}\n"
     ]
    }
   ],
   "source": [
    "print(a.difference(b))\n",
    "print(a-b)\n",
    "print(b.difference(a))\n",
    "print(b-a)"
   ]
  },
  {
   "cell_type": "code",
   "execution_count": 229,
   "id": "5e26e558",
   "metadata": {},
   "outputs": [
    {
     "name": "stdout",
     "output_type": "stream",
     "text": [
      "{1, 2, 3, 7, 8, 9}\n",
      "{1, 2, 3, 7, 8, 9}\n"
     ]
    }
   ],
   "source": [
    "print(a.symmetric_difference(b))\n",
    "print(a^b)"
   ]
  },
  {
   "cell_type": "code",
   "execution_count": 232,
   "id": "4573e12c",
   "metadata": {},
   "outputs": [
    {
     "name": "stdout",
     "output_type": "stream",
     "text": [
      "True\n",
      "True\n",
      "False\n",
      "False\n"
     ]
    }
   ],
   "source": [
    "a={1,2,3,4,5,6}\n",
    "b={3,4}\n",
    "print(a.issuperset(b))\n",
    "print(b.issubset(a))\n",
    "print(b.issuperset(a))\n",
    "print(a.issubset(b))"
   ]
  },
  {
   "cell_type": "code",
   "execution_count": null,
   "id": "063e65ea",
   "metadata": {},
   "outputs": [],
   "source": []
  }
 ],
 "metadata": {
  "kernelspec": {
   "display_name": "Python 3 (ipykernel)",
   "language": "python",
   "name": "python3"
  },
  "language_info": {
   "codemirror_mode": {
    "name": "ipython",
    "version": 3
   },
   "file_extension": ".py",
   "mimetype": "text/x-python",
   "name": "python",
   "nbconvert_exporter": "python",
   "pygments_lexer": "ipython3",
   "version": "3.9.13"
  }
 },
 "nbformat": 4,
 "nbformat_minor": 5
}
