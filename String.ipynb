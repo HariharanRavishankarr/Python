{
 "cells": [
  {
   "cell_type": "code",
   "execution_count": 1,
   "id": "9bc9ca7a",
   "metadata": {},
   "outputs": [
    {
     "name": "stdout",
     "output_type": "stream",
     "text": [
      "Welcome to class \n"
     ]
    }
   ],
   "source": [
    "a=\"Welcome to class \"\n",
    "print(a)"
   ]
  },
  {
   "cell_type": "code",
   "execution_count": 2,
   "id": "13e8f8e4",
   "metadata": {},
   "outputs": [
    {
     "name": "stdout",
     "output_type": "stream",
     "text": [
      "<class 'str'>\n"
     ]
    }
   ],
   "source": [
    "print(type(a))\n"
   ]
  },
  {
   "cell_type": "code",
   "execution_count": 3,
   "id": "533f8a92",
   "metadata": {},
   "outputs": [
    {
     "name": "stdout",
     "output_type": "stream",
     "text": [
      "True\n"
     ]
    }
   ],
   "source": [
    "print(isinstance(a,str))"
   ]
  },
  {
   "cell_type": "code",
   "execution_count": 6,
   "id": "7e540dd1",
   "metadata": {},
   "outputs": [
    {
     "name": "stdout",
     "output_type": "stream",
     "text": [
      "20\n",
      "H\n",
      "v\n",
      "['H', 'R', 'a', 'a', 'a', 'a', 'a', 'a', 'h', 'h', 'i', 'i', 'k', 'n', 'n', 'r', 'r', 'r', 's', 'v']\n"
     ]
    }
   ],
   "source": [
    "a=\"HariharanRavishankar\"\n",
    "print(len(a))\n",
    "print(min(a))\n",
    "print(max(a))\n",
    "print(sorted(a))"
   ]
  },
  {
   "cell_type": "code",
   "execution_count": 7,
   "id": "9c136ba0",
   "metadata": {},
   "outputs": [
    {
     "name": "stdout",
     "output_type": "stream",
     "text": [
      "True\n",
      "True\n",
      "False\n"
     ]
    }
   ],
   "source": [
    "print(a.isalpha())\n",
    "print(a.isalnum())\n",
    "print(a.isdigit())"
   ]
  },
  {
   "cell_type": "code",
   "execution_count": 8,
   "id": "c9220abd",
   "metadata": {},
   "outputs": [
    {
     "name": "stdout",
     "output_type": "stream",
     "text": [
      "False\n",
      "False\n",
      "HARIHARANRAVISHANKAR\n",
      "hariharanravishankar\n",
      "hARIHARANrAVISHANKAR\n"
     ]
    }
   ],
   "source": [
    "print(a.isupper())\n",
    "print(a.islower())\n",
    "print(a.upper())\n",
    "print(a.lower())\n",
    "print(a.swapcase())"
   ]
  },
  {
   "cell_type": "code",
   "execution_count": 10,
   "id": "ca3b6347",
   "metadata": {},
   "outputs": [
    {
     "name": "stdout",
     "output_type": "stream",
     "text": [
      "Hariharanravishankar\n",
      "Hariharanravishankar\n"
     ]
    }
   ],
   "source": [
    "print(a.title())\n",
    "print(a.capitalize())"
   ]
  },
  {
   "cell_type": "code",
   "execution_count": 12,
   "id": "87c8a38b",
   "metadata": {},
   "outputs": [
    {
     "name": "stdout",
     "output_type": "stream",
     "text": [
      "H\n"
     ]
    }
   ],
   "source": [
    "print(a[0])"
   ]
  },
  {
   "cell_type": "code",
   "execution_count": 13,
   "id": "da069b99",
   "metadata": {},
   "outputs": [
    {
     "name": "stdout",
     "output_type": "stream",
     "text": [
      "r\n"
     ]
    }
   ],
   "source": [
    "print(a[-1])"
   ]
  },
  {
   "cell_type": "code",
   "execution_count": 14,
   "id": "85b4a1d3",
   "metadata": {},
   "outputs": [
    {
     "name": "stdout",
     "output_type": "stream",
     "text": [
      "HariharanRavishankar\n"
     ]
    }
   ],
   "source": [
    "print(a[:])"
   ]
  },
  {
   "cell_type": "code",
   "execution_count": 15,
   "id": "dfbb75fe",
   "metadata": {},
   "outputs": [
    {
     "name": "stdout",
     "output_type": "stream",
     "text": [
      "HariharanRavishankar\n"
     ]
    }
   ],
   "source": [
    "print(a[::1])"
   ]
  },
  {
   "cell_type": "code",
   "execution_count": 16,
   "id": "54108461",
   "metadata": {},
   "outputs": [
    {
     "name": "stdout",
     "output_type": "stream",
     "text": [
      "HirRiaa\n"
     ]
    }
   ],
   "source": [
    "print(a[::3])"
   ]
  },
  {
   "cell_type": "code",
   "execution_count": 17,
   "id": "c0fbeb3d",
   "metadata": {},
   "outputs": [
    {
     "ename": "SyntaxError",
     "evalue": "invalid syntax (3359608630.py, line 1)",
     "output_type": "error",
     "traceback": [
      "\u001b[1;36m  File \u001b[1;32m\"C:\\Users\\Admin\\AppData\\Local\\Temp\\ipykernel_4380\\3359608630.py\"\u001b[1;36m, line \u001b[1;32m1\u001b[0m\n\u001b[1;33m    print(a(-1::))\u001b[0m\n\u001b[1;37m              ^\u001b[0m\n\u001b[1;31mSyntaxError\u001b[0m\u001b[1;31m:\u001b[0m invalid syntax\n"
     ]
    }
   ],
   "source": [
    "print(a(-1::))"
   ]
  },
  {
   "cell_type": "code",
   "execution_count": 18,
   "id": "f336313a",
   "metadata": {},
   "outputs": [
    {
     "ename": "SyntaxError",
     "evalue": "invalid syntax (432996705.py, line 1)",
     "output_type": "error",
     "traceback": [
      "\u001b[1;36m  File \u001b[1;32m\"C:\\Users\\Admin\\AppData\\Local\\Temp\\ipykernel_4380\\432996705.py\"\u001b[1;36m, line \u001b[1;32m1\u001b[0m\n\u001b[1;33m    print(a(::-1))\u001b[0m\n\u001b[1;37m            ^\u001b[0m\n\u001b[1;31mSyntaxError\u001b[0m\u001b[1;31m:\u001b[0m invalid syntax\n"
     ]
    }
   ],
   "source": [
    "print(a(::-1))"
   ]
  },
  {
   "cell_type": "code",
   "execution_count": 19,
   "id": "1fdb5679",
   "metadata": {},
   "outputs": [
    {
     "name": "stdout",
     "output_type": "stream",
     "text": [
      "raknahsivaRnarahiraH\n"
     ]
    }
   ],
   "source": [
    "print(a[::-1])"
   ]
  },
  {
   "cell_type": "code",
   "execution_count": 20,
   "id": "19693446",
   "metadata": {},
   "outputs": [
    {
     "name": "stdout",
     "output_type": "stream",
     "text": [
      "3\n"
     ]
    }
   ],
   "source": [
    "print(a.index(\"i\"))"
   ]
  },
  {
   "cell_type": "code",
   "execution_count": 21,
   "id": "b7d21742",
   "metadata": {},
   "outputs": [
    {
     "name": "stdout",
     "output_type": "stream",
     "text": [
      "5\n"
     ]
    }
   ],
   "source": [
    "print(a.index(\"a\",2))"
   ]
  },
  {
   "cell_type": "code",
   "execution_count": 24,
   "id": "7f660d10",
   "metadata": {},
   "outputs": [
    {
     "name": "stdout",
     "output_type": "stream",
     "text": [
      "0\n"
     ]
    }
   ],
   "source": [
    "print(a.index(\"H\",0,9))"
   ]
  },
  {
   "cell_type": "code",
   "execution_count": 28,
   "id": "d9031e15",
   "metadata": {},
   "outputs": [
    {
     "name": "stdout",
     "output_type": "stream",
     "text": [
      "12\n",
      "0\n",
      "3\n",
      "-1\n"
     ]
    }
   ],
   "source": [
    "print(a.rindex(\"i\"))\n",
    "print(a.rindex(\"H\"))\n",
    "print(a.find(\"i\"))\n",
    "print(a.find(\"Z\"))\n"
   ]
  },
  {
   "cell_type": "code",
   "execution_count": 29,
   "id": "9f36a281",
   "metadata": {},
   "outputs": [
    {
     "name": "stdout",
     "output_type": "stream",
     "text": [
      "6\n"
     ]
    }
   ],
   "source": [
    "print(a.count(\"a\"))"
   ]
  },
  {
   "cell_type": "code",
   "execution_count": 30,
   "id": "1622df1e",
   "metadata": {},
   "outputs": [
    {
     "name": "stdout",
     "output_type": "stream",
     "text": [
      "H@rih@r@nR@vish@nk@r\n"
     ]
    }
   ],
   "source": [
    "print(a.replace(\"a\",\"@\"))"
   ]
  },
  {
   "cell_type": "code",
   "execution_count": 31,
   "id": "70d5a6ce",
   "metadata": {},
   "outputs": [
    {
     "name": "stdout",
     "output_type": "stream",
     "text": [
      "H@riharanRavishankar\n",
      "H@rih@ranRavishankar\n",
      "H@rih@r@nRavishankar\n"
     ]
    }
   ],
   "source": [
    "print(a.replace(\"a\",\"@\",1))\n",
    "print(a.replace(\"a\",\"@\",2))\n",
    "print(a.replace(\"a\",\"@\",3))"
   ]
  },
  {
   "cell_type": "code",
   "execution_count": 32,
   "id": "d37c34f5",
   "metadata": {},
   "outputs": [
    {
     "name": "stdout",
     "output_type": "stream",
     "text": [
      "['H', 'rih', 'r', 'nR', 'vish', 'nk', 'r']\n"
     ]
    }
   ],
   "source": [
    "print(a.split(\"a\"))"
   ]
  },
  {
   "cell_type": "code",
   "execution_count": 33,
   "id": "a4152ef4",
   "metadata": {},
   "outputs": [
    {
     "name": "stdout",
     "output_type": "stream",
     "text": [
      "['H', 'riharanRavishankar']\n"
     ]
    }
   ],
   "source": [
    "print(a.split(\"a\",1))"
   ]
  },
  {
   "cell_type": "code",
   "execution_count": 34,
   "id": "28d712db",
   "metadata": {},
   "outputs": [
    {
     "name": "stdout",
     "output_type": "stream",
     "text": [
      "['H', 'rih', 'ranRavishankar']\n"
     ]
    }
   ],
   "source": [
    "print(a.split(\"a\",2))"
   ]
  },
  {
   "cell_type": "code",
   "execution_count": 36,
   "id": "21701370",
   "metadata": {},
   "outputs": [
    {
     "name": "stdout",
     "output_type": "stream",
     "text": [
      "Good Morning Hari , Have a great Sunday \n"
     ]
    }
   ],
   "source": [
    "print(\"Good Morning {} , Have a great {} \".format(\"Hari\",\"Sunday\"))"
   ]
  },
  {
   "cell_type": "code",
   "execution_count": 37,
   "id": "092b7e66",
   "metadata": {},
   "outputs": [
    {
     "name": "stdout",
     "output_type": "stream",
     "text": [
      "Good Morning Hari , Have a great Sunday \n"
     ]
    }
   ],
   "source": [
    "name=\"Hari\"\n",
    "day=\"Sunday\"\n",
    "print(f\"Good Morning {name} , Have a great {day} \")"
   ]
  },
  {
   "cell_type": "code",
   "execution_count": 38,
   "id": "1106f686",
   "metadata": {},
   "outputs": [
    {
     "name": "stdout",
     "output_type": "stream",
     "text": [
      "<class 'int'>\n"
     ]
    }
   ],
   "source": [
    "a=123\n",
    "print(type(a))"
   ]
  },
  {
   "cell_type": "code",
   "execution_count": 39,
   "id": "bca7e7be",
   "metadata": {},
   "outputs": [
    {
     "name": "stdout",
     "output_type": "stream",
     "text": [
      "True\n"
     ]
    }
   ],
   "source": [
    "print(isinstance(a,int))"
   ]
  },
  {
   "cell_type": "code",
   "execution_count": 40,
   "id": "558a7662",
   "metadata": {},
   "outputs": [
    {
     "ename": "NameError",
     "evalue": "name 'isdigit' is not defined",
     "output_type": "error",
     "traceback": [
      "\u001b[1;31m---------------------------------------------------------------------------\u001b[0m",
      "\u001b[1;31mNameError\u001b[0m                                 Traceback (most recent call last)",
      "\u001b[1;32m~\\AppData\\Local\\Temp\\ipykernel_4380\\3210761193.py\u001b[0m in \u001b[0;36m<module>\u001b[1;34m\u001b[0m\n\u001b[0;32m      1\u001b[0m \u001b[0ma\u001b[0m\u001b[1;33m=\u001b[0m\u001b[1;34m\"123\"\u001b[0m\u001b[1;33m\u001b[0m\u001b[1;33m\u001b[0m\u001b[0m\n\u001b[1;32m----> 2\u001b[1;33m \u001b[0mprint\u001b[0m\u001b[1;33m(\u001b[0m\u001b[0misdigit\u001b[0m\u001b[1;33m(\u001b[0m\u001b[0ma\u001b[0m\u001b[1;33m,\u001b[0m\u001b[0mint\u001b[0m\u001b[1;33m)\u001b[0m\u001b[1;33m)\u001b[0m\u001b[1;33m\u001b[0m\u001b[1;33m\u001b[0m\u001b[0m\n\u001b[0m",
      "\u001b[1;31mNameError\u001b[0m: name 'isdigit' is not defined"
     ]
    }
   ],
   "source": [
    "a=\"123\"\n",
    "print(isdigit(a,int))"
   ]
  },
  {
   "cell_type": "code",
   "execution_count": 44,
   "id": "1f5c9a5c",
   "metadata": {},
   "outputs": [
    {
     "name": "stdout",
     "output_type": "stream",
     "text": [
      "True\n"
     ]
    }
   ],
   "source": [
    "print(a.isdigit())"
   ]
  },
  {
   "cell_type": "code",
   "execution_count": null,
   "id": "52f5da4c",
   "metadata": {},
   "outputs": [],
   "source": []
  }
 ],
 "metadata": {
  "kernelspec": {
   "display_name": "Python 3 (ipykernel)",
   "language": "python",
   "name": "python3"
  },
  "language_info": {
   "codemirror_mode": {
    "name": "ipython",
    "version": 3
   },
   "file_extension": ".py",
   "mimetype": "text/x-python",
   "name": "python",
   "nbconvert_exporter": "python",
   "pygments_lexer": "ipython3",
   "version": "3.9.13"
  }
 },
 "nbformat": 4,
 "nbformat_minor": 5
}
