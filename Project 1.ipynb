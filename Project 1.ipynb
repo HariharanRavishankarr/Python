{
 "cells": [
  {
   "cell_type": "code",
   "execution_count": 1,
   "id": "cd04f643",
   "metadata": {},
   "outputs": [
    {
     "name": "stdout",
     "output_type": "stream",
     "text": [
      "<class 'list'>\n",
      "6\n"
     ]
    }
   ],
   "source": [
    "a=[\"hari@gmail.com\",\"haran@yahoo.com\",\"test@outlook.com\",\"hari@yahoo.com\",\"haran@gmail.com\",\"test@outlook.com\"]\n",
    "print(type(a))\n",
    "print(len(a))"
   ]
  },
  {
   "cell_type": "code",
   "execution_count": 23,
   "id": "1fa8b09e",
   "metadata": {},
   "outputs": [
    {
     "data": {
      "text/plain": [
       "'hari@gmail.com'"
      ]
     },
     "execution_count": 23,
     "metadata": {},
     "output_type": "execute_result"
    }
   ],
   "source": [
    "a[0]"
   ]
  },
  {
   "cell_type": "code",
   "execution_count": 24,
   "id": "142fb09b",
   "metadata": {},
   "outputs": [
    {
     "name": "stdout",
     "output_type": "stream",
     "text": [
      "hari@gmail.com\n",
      "haran@yahoo.com\n",
      "test@outlook.com\n",
      "hari@yahoo.com\n",
      "haran@gmail.com\n",
      "test@outlook.com\n"
     ]
    }
   ],
   "source": [
    "for i in a:\n",
    "    print(i)"
   ]
  },
  {
   "cell_type": "code",
   "execution_count": 28,
   "id": "c8f23268",
   "metadata": {},
   "outputs": [
    {
     "data": {
      "text/plain": [
       "'hari@gmail.com'"
      ]
     },
     "execution_count": 28,
     "metadata": {},
     "output_type": "execute_result"
    }
   ],
   "source": [
    "a[0]"
   ]
  },
  {
   "cell_type": "code",
   "execution_count": 31,
   "id": "447fb9fb",
   "metadata": {
    "scrolled": true
   },
   "outputs": [
    {
     "ename": "IndentationError",
     "evalue": "expected an indented block (3270321852.py, line 3)",
     "output_type": "error",
     "traceback": [
      "\u001b[1;36m  File \u001b[1;32m\"C:\\Users\\Admin\\AppData\\Local\\Temp\\ipykernel_8684\\3270321852.py\"\u001b[1;36m, line \u001b[1;32m3\u001b[0m\n\u001b[1;33m    print(i)\u001b[0m\n\u001b[1;37m    ^\u001b[0m\n\u001b[1;31mIndentationError\u001b[0m\u001b[1;31m:\u001b[0m expected an indented block\n"
     ]
    }
   ],
   "source": [
    "for i in a:\n",
    "    if i==\"@\":\n",
    "    print(i)"
   ]
  },
  {
   "cell_type": "code",
   "execution_count": 32,
   "id": "d2cf5602",
   "metadata": {},
   "outputs": [
    {
     "data": {
      "text/plain": [
       "['h']"
      ]
     },
     "execution_count": 32,
     "metadata": {},
     "output_type": "execute_result"
    }
   ],
   "source": [
    "[a.split('@', 1)[0] for i in a]"
   ]
  },
  {
   "cell_type": "code",
   "execution_count": 62,
   "id": "c7bd4286",
   "metadata": {},
   "outputs": [
    {
     "name": "stdout",
     "output_type": "stream",
     "text": [
      "['hari@gmail.com', 'haran@yahoo.com', 'test@outlook.com', 'hari@yahoo.com', 'haran@gmail.com', 'test@outlook.com']\n"
     ]
    }
   ],
   "source": [
    "a=['hari@gmail.com','haran@yahoo.com','test@outlook.com','hari@yahoo.com','haran@gmail.com','test@outlook.com']\n",
    "print(a)"
   ]
  },
  {
   "cell_type": "code",
   "execution_count": 63,
   "id": "7e2581ee",
   "metadata": {},
   "outputs": [
    {
     "data": {
      "text/plain": [
       "[['test', 'outlook.com']]"
      ]
     },
     "execution_count": 63,
     "metadata": {},
     "output_type": "execute_result"
    }
   ],
   "source": [
    "[i.split('@')]"
   ]
  },
  {
   "cell_type": "code",
   "execution_count": 92,
   "id": "cbac2323",
   "metadata": {},
   "outputs": [
    {
     "name": "stdout",
     "output_type": "stream",
     "text": [
      "[['hari', 'gmail.com'], ['haran', 'yahoo.com'], ['test', 'outlook.com'], ['hari', 'yahoo.com'], ['haran', 'gmail.com'], ['test', 'outlook.com']]\n"
     ]
    }
   ],
   "source": [
    "b=[i.split('@') for i in a]\n",
    "print(b)"
   ]
  },
  {
   "cell_type": "code",
   "execution_count": 101,
   "id": "625120c4",
   "metadata": {},
   "outputs": [
    {
     "name": "stdout",
     "output_type": "stream",
     "text": [
      "[['hari', 'gmail.com'], ['haran', 'yahoo.com'], ['test', 'outlook.com'], ['hari', 'yahoo.com'], ['haran', 'gmail.com'], ['test', 'outlook.com']]\n",
      "[['hari', 'gmail.com'], ['haran', 'yahoo.com'], ['test', 'outlook.com'], ['hari', 'yahoo.com'], ['haran', 'gmail.com'], ['test', 'outlook.com']]\n",
      "[['hari', 'gmail.com'], ['haran', 'yahoo.com'], ['test', 'outlook.com'], ['hari', 'yahoo.com'], ['haran', 'gmail.com'], ['test', 'outlook.com']]\n",
      "[['hari', 'gmail.com'], ['haran', 'yahoo.com'], ['test', 'outlook.com'], ['hari', 'yahoo.com'], ['haran', 'gmail.com'], ['test', 'outlook.com']]\n",
      "[['hari', 'gmail.com'], ['haran', 'yahoo.com'], ['test', 'outlook.com'], ['hari', 'yahoo.com'], ['haran', 'gmail.com'], ['test', 'outlook.com']]\n",
      "[['hari', 'gmail.com'], ['haran', 'yahoo.com'], ['test', 'outlook.com'], ['hari', 'yahoo.com'], ['haran', 'gmail.com'], ['test', 'outlook.com']]\n"
     ]
    }
   ],
   "source": [
    "i=0\n",
    "for i in b:\n",
    "    print(b)"
   ]
  },
  {
   "cell_type": "code",
   "execution_count": 108,
   "id": "54232b44",
   "metadata": {},
   "outputs": [
    {
     "name": "stdout",
     "output_type": "stream",
     "text": [
      "List after pop(): [['hari', 'gmail.com'], ['haran', 'yahoo.com'], ['test', 'outlook.com'], ['hari', 'yahoo.com'], ['haran', 'gmail.com']]\n"
     ]
    }
   ],
   "source": [
    "print(\"List after pop():\", b)"
   ]
  },
  {
   "cell_type": "code",
   "execution_count": 109,
   "id": "4b9a6752",
   "metadata": {
    "scrolled": true
   },
   "outputs": [
    {
     "ename": "SyntaxError",
     "evalue": "invalid syntax (1485121159.py, line 1)",
     "output_type": "error",
     "traceback": [
      "\u001b[1;36m  File \u001b[1;32m\"C:\\Users\\Admin\\AppData\\Local\\Temp\\ipykernel_8684\\1485121159.py\"\u001b[1;36m, line \u001b[1;32m1\u001b[0m\n\u001b[1;33m    b[0] for i in b\u001b[0m\n\u001b[1;37m         ^\u001b[0m\n\u001b[1;31mSyntaxError\u001b[0m\u001b[1;31m:\u001b[0m invalid syntax\n"
     ]
    }
   ],
   "source": [
    "b[0] for i in b"
   ]
  },
  {
   "cell_type": "code",
   "execution_count": 111,
   "id": "7d4fc764",
   "metadata": {},
   "outputs": [
    {
     "name": "stdout",
     "output_type": "stream",
     "text": [
      "['hari', 'haran', 'test', 'hari', 'haran', 'test']\n"
     ]
    }
   ],
   "source": [
    "b=[i.split('@')[0] for i in a]\n",
    "print(b)"
   ]
  },
  {
   "cell_type": "code",
   "execution_count": 118,
   "id": "268fd1cb",
   "metadata": {},
   "outputs": [
    {
     "name": "stdout",
     "output_type": "stream",
     "text": [
      "['gmail.com', 'yahoo.com', 'outlook.com', 'yahoo.com', 'gmail.com', 'outlook.com']\n"
     ]
    }
   ],
   "source": [
    "c=[i.split('@')[1] for i in a]\n",
    "print(c)"
   ]
  },
  {
   "cell_type": "code",
   "execution_count": 122,
   "id": "28def67a",
   "metadata": {},
   "outputs": [
    {
     "ename": "SyntaxError",
     "evalue": "unexpected EOF while parsing (2234479031.py, line 1)",
     "output_type": "error",
     "traceback": [
      "\u001b[1;36m  File \u001b[1;32m\"C:\\Users\\Admin\\AppData\\Local\\Temp\\ipykernel_8684\\2234479031.py\"\u001b[1;36m, line \u001b[1;32m1\u001b[0m\n\u001b[1;33m    print(list(set(c))\u001b[0m\n\u001b[1;37m                      ^\u001b[0m\n\u001b[1;31mSyntaxError\u001b[0m\u001b[1;31m:\u001b[0m unexpected EOF while parsing\n"
     ]
    }
   ],
   "source": [
    "print(list(set(c))"
   ]
  },
  {
   "cell_type": "code",
   "execution_count": 120,
   "id": "5b45caa8",
   "metadata": {},
   "outputs": [
    {
     "ename": "ValueError",
     "evalue": "dictionary update sequence element #0 has length 9; 2 is required",
     "output_type": "error",
     "traceback": [
      "\u001b[1;31m---------------------------------------------------------------------------\u001b[0m",
      "\u001b[1;31mValueError\u001b[0m                                Traceback (most recent call last)",
      "\u001b[1;32m~\\AppData\\Local\\Temp\\ipykernel_8684\\3032907313.py\u001b[0m in \u001b[0;36m<module>\u001b[1;34m\u001b[0m\n\u001b[1;32m----> 1\u001b[1;33m \u001b[0mprint\u001b[0m\u001b[1;33m(\u001b[0m\u001b[0mdict\u001b[0m\u001b[1;33m(\u001b[0m\u001b[0mc\u001b[0m\u001b[1;33m)\u001b[0m\u001b[1;33m)\u001b[0m\u001b[1;33m\u001b[0m\u001b[1;33m\u001b[0m\u001b[0m\n\u001b[0m",
      "\u001b[1;31mValueError\u001b[0m: dictionary update sequence element #0 has length 9; 2 is required"
     ]
    }
   ],
   "source": [
    "print(dict(c))"
   ]
  },
  {
   "cell_type": "code",
   "execution_count": 123,
   "id": "84b484e2",
   "metadata": {},
   "outputs": [
    {
     "name": "stdout",
     "output_type": "stream",
     "text": [
      "{'yahoo.com', 'gmail.com', 'outlook.com'}\n"
     ]
    }
   ],
   "source": [
    "print(set(c))"
   ]
  },
  {
   "cell_type": "code",
   "execution_count": null,
   "id": "f726fd9d",
   "metadata": {},
   "outputs": [],
   "source": []
  }
 ],
 "metadata": {
  "kernelspec": {
   "display_name": "Python 3 (ipykernel)",
   "language": "python",
   "name": "python3"
  },
  "language_info": {
   "codemirror_mode": {
    "name": "ipython",
    "version": 3
   },
   "file_extension": ".py",
   "mimetype": "text/x-python",
   "name": "python",
   "nbconvert_exporter": "python",
   "pygments_lexer": "ipython3",
   "version": "3.9.13"
  }
 },
 "nbformat": 4,
 "nbformat_minor": 5
}
